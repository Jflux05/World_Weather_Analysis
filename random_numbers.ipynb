{
 "cells": [
  {
   "cell_type": "code",
   "execution_count": 1,
   "id": "05e0518f",
   "metadata": {},
   "outputs": [],
   "source": [
    "# Import the random module.\n",
    "import random"
   ]
  },
  {
   "cell_type": "markdown",
   "id": "cbcfff19",
   "metadata": {},
   "source": [
    "## The randint() function:"
   ]
  },
  {
   "cell_type": "code",
   "execution_count": 3,
   "id": "f7e9782e",
   "metadata": {},
   "outputs": [
    {
     "data": {
      "text/plain": [
       "82"
      ]
     },
     "execution_count": 3,
     "metadata": {},
     "output_type": "execute_result"
    }
   ],
   "source": [
    "# The randint() function  is short for \"random integer.\" This function will only return one integer, not a \n",
    "# floating-point decimal, between the given intervals.\n",
    "\n",
    "random.randint(-90, 90)\n",
    "\n",
    "# this will get a single integer between –90 and 90 because we need two latitudes between –90 and 90."
   ]
  },
  {
   "cell_type": "markdown",
   "id": "11b2cacf",
   "metadata": {},
   "source": [
    "## The random() Function: "
   ]
  },
  {
   "cell_type": "code",
   "execution_count": 4,
   "id": "e068836d",
   "metadata": {},
   "outputs": [
    {
     "data": {
      "text/plain": [
       "0.2189759854254707"
      ]
     },
     "execution_count": 4,
     "metadata": {},
     "output_type": "execute_result"
    }
   ],
   "source": [
    "# Using the random() function, returns only a single floating-point decimal number between 0 and 1.0.\n",
    "\n",
    "random.random()"
   ]
  },
  {
   "cell_type": "markdown",
   "id": "ed18284e",
   "metadata": {},
   "source": [
    "### Combining random.randint(- ,  ) and random.random() to generate a floating-point decimal:"
   ]
  },
  {
   "cell_type": "code",
   "execution_count": 6,
   "id": "8c0273ac",
   "metadata": {},
   "outputs": [],
   "source": [
    "# If we combine random.randint(-90, 89) and random.random() to generate a floating-point decimal between –90 and 90, \n",
    "# we can generate a random latitude.\n",
    "\n",
    "#random_number = random.randint(-90, 89) + random.random()\n",
    "#random_number\n",
    "\n",
    "# We changed the lower range of the randint() because we want whole numbers up to 89, \n",
    "# so when we add the floating-point decimal number, we'll generate latitudes between –89.99999 and 89.99999."
   ]
  },
  {
   "cell_type": "code",
   "execution_count": 8,
   "id": "f161a33f",
   "metadata": {},
   "outputs": [
    {
     "data": {
      "text/plain": [
       "[31.693283488009328,\n",
       " 34.77354268415817,\n",
       " 38.840431320964306,\n",
       " 60.21288509737374,\n",
       " -57.02316575640117,\n",
       " 69.79422494093784,\n",
       " -55.378130675608006,\n",
       " 51.047955650909095,\n",
       " -49.2915032934934,\n",
       " -65.76747266333119]"
      ]
     },
     "execution_count": 8,
     "metadata": {},
     "output_type": "execute_result"
    }
   ],
   "source": [
    "# Using these two functions from above, we can write an algorithm that will generate latitudes between –90 and 89. \n",
    "\n",
    "x = 1\n",
    "latitudes = []\n",
    "while x < 11:\n",
    "    random_lat = random.randint(-90, 89) + random.random()\n",
    "    latitudes.append(random_lat)\n",
    "    x += 1\n",
    "    \n",
    "latitudes"
   ]
  },
  {
   "cell_type": "code",
   "execution_count": 9,
   "id": "dace880c",
   "metadata": {},
   "outputs": [],
   "source": [
    "# Next, we would have to use a similar method to get random longitudes between –180 and 180, \n",
    "# which we can then pair with the latitudes. "
   ]
  },
  {
   "cell_type": "markdown",
   "id": "22f61534",
   "metadata": {},
   "source": [
    "## The randrange() Function:"
   ]
  },
  {
   "cell_type": "code",
   "execution_count": 12,
   "id": "8195812b",
   "metadata": {},
   "outputs": [
    {
     "data": {
      "text/plain": [
       "28"
      ]
     },
     "execution_count": 12,
     "metadata": {},
     "output_type": "execute_result"
    }
   ],
   "source": [
    "# The randrange() function behaves differently than the previous two functions. \n",
    "# This function, has an option to add a step parameter and set it equal to an integer, which will generate \n",
    "# increments of a given integer value, from the lower to the upper limit.\n",
    "\n",
    "# For example: \n",
    "random.randrange(-90, 90, step=1)"
   ]
  },
  {
   "cell_type": "code",
   "execution_count": 13,
   "id": "cc89a7ab",
   "metadata": {},
   "outputs": [
    {
     "data": {
      "text/plain": [
       "-54"
      ]
     },
     "execution_count": 13,
     "metadata": {},
     "output_type": "execute_result"
    }
   ],
   "source": [
    "# Example 2 for randrange() Function:\n",
    "random.randrange(-90, 90, step=3)"
   ]
  },
  {
   "cell_type": "code",
   "execution_count": 14,
   "id": "8f6fb839",
   "metadata": {},
   "outputs": [],
   "source": [
    "# The randrange() Function might help us by combining the random.randrange() and random.random() functions \n",
    "# to generate a floating-point decimal between –90 and 90, like we did with the random.randint() and random.random() \n",
    "#functions."
   ]
  },
  {
   "cell_type": "code",
   "execution_count": 15,
   "id": "ccc362e3",
   "metadata": {},
   "outputs": [
    {
     "data": {
      "text/plain": [
       "4.523028948163656"
      ]
     },
     "execution_count": 15,
     "metadata": {},
     "output_type": "execute_result"
    }
   ],
   "source": [
    "# The uniform() Function: will allow us to generate a floating-point decimal number between two given numbers inside \n",
    "# the parentheses.\n",
    "\n",
    "random.uniform(-90, 90)"
   ]
  },
  {
   "cell_type": "markdown",
   "id": "a032c320",
   "metadata": {},
   "source": [
    "## The NumPy and random Modules:"
   ]
  },
  {
   "cell_type": "code",
   "execution_count": 16,
   "id": "1c354e41",
   "metadata": {},
   "outputs": [],
   "source": [
    "# To help us generate the 1500 latitudes and longitudes, we can combine the NumPy module with one of \n",
    "# the random module functions.\n",
    "\n",
    "# One way to generate more than a thousand latitudes and longitudes is to chain the NumPy module to the random module \n",
    "# to create an array of latitudes or longitudes between the lowest and highest values, or –90° and 90°, \n",
    "# and –180° and 180°, respectively. \n",
    "\n",
    "# To accomplish this, we'll use the uniform() function from the random module."
   ]
  },
  {
   "cell_type": "code",
   "execution_count": 17,
   "id": "a944a691",
   "metadata": {},
   "outputs": [],
   "source": [
    "# Import the NumPy module.\n",
    "import numpy as np"
   ]
  },
  {
   "cell_type": "code",
   "execution_count": 18,
   "id": "1fc5b801",
   "metadata": {},
   "outputs": [
    {
     "data": {
      "text/plain": [
       "4.459729273939573"
      ]
     },
     "execution_count": 18,
     "metadata": {},
     "output_type": "execute_result"
    }
   ],
   "source": [
    "# Use Numpy and the random uniform() to generate a floating-point decimal number between –90.000 and 90.000:\n",
    "\n",
    "np.random.uniform(-90.000, 90.000)"
   ]
  },
  {
   "cell_type": "code",
   "execution_count": 19,
   "id": "c627c615",
   "metadata": {},
   "outputs": [
    {
     "data": {
      "text/plain": [
       "array([ 52.21952209,  37.33342231,   7.40282948,  76.36702369,\n",
       "       -25.62973485,  21.96745898,  43.03091727, -38.50427589,\n",
       "        72.35776473,  63.669889  , -56.23172645,  36.5131498 ,\n",
       "       -79.70122193, -75.06425643,   3.12649012,  -5.69871072,\n",
       "        18.04464501, -59.36225694,  75.02586421,  84.61603734,\n",
       "        11.85454606,  53.52407392, -20.995383  , -54.16516166,\n",
       "       -64.17524251,  88.44057354,   2.76766324, -71.76598809,\n",
       "        89.82395681,  12.61720667,  79.68314329, -52.77347216,\n",
       "       -60.03437623,  38.7110906 ,   2.84237738,  -0.54519801,\n",
       "        28.738315  ,  15.00592583, -42.80413022,  55.17734549,\n",
       "        72.80063547,  39.03651598, -57.17668201,  10.32306808,\n",
       "         7.40747718,  -2.18193912,  55.98456649,  12.3505661 ,\n",
       "       -65.73894508, -52.38341083])"
      ]
     },
     "execution_count": 19,
     "metadata": {},
     "output_type": "execute_result"
    }
   ],
   "source": [
    "# To generate more than one floating-point decimal number between –90 and 90, we can add the size parameter \n",
    "# when we use the NumPy module and set that equal to any whole number.\n",
    "\n",
    "np.random.uniform(-90.000, 90.000, size=50)"
   ]
  },
  {
   "cell_type": "markdown",
   "id": "4973bd18",
   "metadata": {},
   "source": [
    "### Comparing random.uniform function to a while loop:"
   ]
  },
  {
   "cell_type": "code",
   "execution_count": 20,
   "id": "f94e71d9",
   "metadata": {},
   "outputs": [],
   "source": [
    "# To test how long a piece of code or function takes to run, we can import the \"timeit\" module and use \n",
    "# the %timeit magic command when we run our code or call the function.\n",
    "\n",
    "# Import timeit.\n",
    "import timeit"
   ]
  },
  {
   "cell_type": "code",
   "execution_count": 21,
   "id": "2f947012",
   "metadata": {},
   "outputs": [
    {
     "name": "stdout",
     "output_type": "stream",
     "text": [
      "22.8 µs ± 10.7 µs per loop (mean ± std. dev. of 7 runs, 10000 loops each)\n"
     ]
    }
   ],
   "source": [
    "%timeit np.random.uniform(-90.000, 90.000, size=1500)"
   ]
  },
  {
   "cell_type": "code",
   "execution_count": 22,
   "id": "f81b37b4",
   "metadata": {},
   "outputs": [
    {
     "name": "stdout",
     "output_type": "stream",
     "text": [
      "1.87 ms ± 194 µs per loop (mean ± std. dev. of 7 runs, 100 loops each)\n"
     ]
    }
   ],
   "source": [
    "# Now, let's run the while loop as a function. And then compare it to the np.random.uniform function's time\n",
    "\n",
    "def latitudes(size):\n",
    "    latitudes = []\n",
    "    x = 0\n",
    "    while x < (size):\n",
    "        random_lat = random.randint(-90, 90) + random.random()\n",
    "        latitudes.append(random_lat)\n",
    "        x += 1\n",
    "    return latitudes\n",
    "\n",
    "# Call the function with 1500.\n",
    "%timeit latitudes(1500)"
   ]
  },
  {
   "cell_type": "markdown",
   "id": "5fd62a98",
   "metadata": {},
   "source": [
    "### The np.random.uniform() is 100x faster with fewer lines of code than using a while loop "
   ]
  },
  {
   "cell_type": "code",
   "execution_count": 23,
   "id": "aa7c441e",
   "metadata": {},
   "outputs": [],
   "source": [
    "# Using the np.random.uniform(-90.000, 90.000, size=1500) is 100 times faster than using the function, \n",
    "# and our code is one line, whereas the function uses eight lines!"
   ]
  },
  {
   "cell_type": "markdown",
   "id": "9d184d73",
   "metadata": {},
   "source": [
    "### SKILL DRILL: Refactor the code for the while loop with the %timeit magic command and write a for loop that will generate the 1,500 latitudes."
   ]
  },
  {
   "cell_type": "code",
   "execution_count": null,
   "id": "257e296e",
   "metadata": {},
   "outputs": [],
   "source": []
  },
  {
   "cell_type": "code",
   "execution_count": null,
   "id": "5f5713a5",
   "metadata": {},
   "outputs": [],
   "source": []
  }
 ],
 "metadata": {
  "kernelspec": {
   "display_name": "PythonData",
   "language": "python",
   "name": "pythondata"
  },
  "language_info": {
   "codemirror_mode": {
    "name": "ipython",
    "version": 3
   },
   "file_extension": ".py",
   "mimetype": "text/x-python",
   "name": "python",
   "nbconvert_exporter": "python",
   "pygments_lexer": "ipython3",
   "version": "3.8.8"
  }
 },
 "nbformat": 4,
 "nbformat_minor": 5
}
