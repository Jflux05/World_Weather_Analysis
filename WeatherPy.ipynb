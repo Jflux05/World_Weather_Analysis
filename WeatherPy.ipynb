{
 "cells": [
  {
   "cell_type": "code",
   "execution_count": 1,
   "id": "b235bda0",
   "metadata": {},
   "outputs": [],
   "source": [
    "# Import the dependencies.\n",
    "import pandas as pd\n",
    "import matplotlib.pyplot as plt\n",
    "import numpy as np"
   ]
  },
  {
   "cell_type": "markdown",
   "id": "9d9404e1",
   "metadata": {},
   "source": [
    "### Create Latitude and Longitude Combinations"
   ]
  },
  {
   "cell_type": "code",
   "execution_count": 2,
   "id": "db7d5f21",
   "metadata": {},
   "outputs": [
    {
     "data": {
      "text/plain": [
       "<zip at 0x7fc0cae5b580>"
      ]
     },
     "execution_count": 2,
     "metadata": {},
     "output_type": "execute_result"
    }
   ],
   "source": [
    "# Add code that generates the latitudes and longitudes, but first, they need to be stored so that we can \n",
    "# access them later. Since we are creating arrays of latitudes and longitudes, we'll declare each array as a variable.\n",
    "\n",
    "# To ensure enough latitudes and longitudes, we'll start with 1,500. In addition, we'll pack the latitudes (lats) \n",
    "# and longitudes (lngs) as pairs by zipping them (lat_lngs) with the zip() function.\n",
    "\n",
    "# Create a set of random latitude and longitude combinations.\n",
    "lats = np.random.uniform(low=-90.000, high=90.000, size=1500)\n",
    "lngs = np.random.uniform(low=-180.000, high=180.000, size=1500)\n",
    "lat_lngs = zip(lats, lngs)\n",
    "lat_lngs\n",
    "\n",
    "# When we run this cell, the output is a zip object in memory. \n",
    "# The zip object packs each pair of lats and lngs having the same index in their respective array into a tuple. \n",
    "\n",
    "# If there are 1,500 latitudes and longitudes, there will be 1,500 tuples of paired latitudes and longitudes, \n",
    "# where each latitude and longitude in a tuple can be accessed by the index of 0 and 1, respectively."
   ]
  },
  {
   "cell_type": "markdown",
   "id": "19e9d05c",
   "metadata": {},
   "source": [
    "### Unpack a zip object into a list:"
   ]
  },
  {
   "cell_type": "code",
   "execution_count": 3,
   "id": "3133cd58",
   "metadata": {},
   "outputs": [],
   "source": [
    "# Let's unpack our lat_lngs zip object into a list. \n",
    "# This way, we only need to create a set of random latitudes and longitudes once\n",
    "\n",
    "# Add the latitudes and longitudes to a list.\n",
    "coordinates = list(lat_lngs)\n",
    "\n",
    "# NOTE: You can only unzip a zipped tuple once before it is removed from the computer's memory."
   ]
  },
  {
   "cell_type": "code",
   "execution_count": 4,
   "id": "8dff1a89",
   "metadata": {},
   "outputs": [],
   "source": [
    "# Now that we have our ordered pairs of latitudes and longitudes in a list, we can iterate through the \n",
    "# list of tuples and find the nearest city to those coordinates."
   ]
  },
  {
   "cell_type": "code",
   "execution_count": 5,
   "id": "8969c7fd",
   "metadata": {},
   "outputs": [],
   "source": [
    "# Import citipy\n",
    "# Use the citipy module to determine city based on latitude and longitude.\n",
    "from citipy import citipy"
   ]
  },
  {
   "cell_type": "code",
   "execution_count": 6,
   "id": "7f46e7e4",
   "metadata": {},
   "outputs": [
    {
     "data": {
      "text/plain": [
       "600"
      ]
     },
     "execution_count": 6,
     "metadata": {},
     "output_type": "execute_result"
    }
   ],
   "source": [
    "# Create a list for holding the cities.\n",
    "cities = []\n",
    "\n",
    "# Identify the nearest city for each latitude and longitude combination.\n",
    "for coordinate in coordinates:\n",
    "    city = citipy.nearest_city(coordinate[0], coordinate[1]).city_name\n",
    "\n",
    "    # If the city is unique, then we will add it to the cities list.\n",
    "    if city not in cities:\n",
    "        cities.append(city)\n",
    "        \n",
    "# Print the city count to confirm sufficient count.\n",
    "len(cities)"
   ]
  },
  {
   "cell_type": "code",
   "execution_count": null,
   "id": "fb3a71ef",
   "metadata": {},
   "outputs": [],
   "source": []
  }
 ],
 "metadata": {
  "kernelspec": {
   "display_name": "PythonData",
   "language": "python",
   "name": "pythondata"
  },
  "language_info": {
   "codemirror_mode": {
    "name": "ipython",
    "version": 3
   },
   "file_extension": ".py",
   "mimetype": "text/x-python",
   "name": "python",
   "nbconvert_exporter": "python",
   "pygments_lexer": "ipython3",
   "version": "3.8.8"
  }
 },
 "nbformat": 4,
 "nbformat_minor": 5
}
